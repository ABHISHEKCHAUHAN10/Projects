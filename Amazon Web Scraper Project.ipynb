{
 "cells": [
  {
   "cell_type": "markdown",
   "id": "3c6d9d37-cf34-4f85-a5fe-e42a630e82d4",
   "metadata": {},
   "source": [
    "# WEB SCRAPPING PROJECT"
   ]
  },
  {
   "cell_type": "code",
   "execution_count": 1,
   "id": "4bb26350-692b-4e6e-9f5e-ce5405be1b0f",
   "metadata": {},
   "outputs": [],
   "source": [
    "#import libraries\n",
    "\n",
    "from bs4 import BeautifulSoup\n",
    "import requests\n",
    "import time \n",
    "import datetime\n",
    "import smtplib"
   ]
  },
  {
   "cell_type": "code",
   "execution_count": 2,
   "id": "6efc73cb-1e3a-4b4e-9c34-076200074493",
   "metadata": {
    "scrolled": true
   },
   "outputs": [],
   "source": [
    "#Connect to Website and pull in data\n",
    "\n",
    "url = 'https://www.amazon.in/Allen-Solly-Regular-AMKP317G04249_Jet-Black_Large/dp/B06Y2FG6R7/ref=zg_bs_c_apparel_d_sccl_3/521-6837855-5373914?pd_rd_w=tKiHT&content-id=amzn1.sym.7f3d66f6-5df6-41bc-b3bc-9782a34ce834&pf_rd_p=7f3d66f6-5df6-41bc-b3bc-9782a34ce834&pf_rd_r=590FNGF13TA3E577XBGJ&pd_rd_wg=RfIXu&pd_rd_r=d2ac9803-cf87-45bf-983a-1920201c9387&pd_rd_i=B06Y2FG6R7&psc=1' \n",
    "\n",
    "page = requests.get(url)\n",
    "\n",
    "soup1 = BeautifulSoup(page.text, 'html')\n",
    "\n",
    "\n"
   ]
  },
  {
   "cell_type": "code",
   "execution_count": 3,
   "id": "faed4969-9e23-4ae2-b5db-0a5e3567595f",
   "metadata": {
    "scrolled": true
   },
   "outputs": [],
   "source": [
    "#make raw data little structured (pretty)\n",
    "\n",
    "soup2 = BeautifulSoup(soup1.prettify())\n"
   ]
  },
  {
   "cell_type": "code",
   "execution_count": 14,
   "id": "d3412a70-0fc8-4c2a-8474-98506221c325",
   "metadata": {},
   "outputs": [
    {
     "name": "stdout",
     "output_type": "stream",
     "text": [
      "\n",
      "                  Allen Solly Men's Cotton Regular Fit Polo T-Shirt\n",
      "                 \n",
      "\n",
      "                    681\n",
      "                   \n"
     ]
    }
   ],
   "source": [
    "\n",
    "title = soup2.find( id = 'productTitle').get_text() \n",
    "price =soup2.find( class_ = 'a-price-whole').get_text()\n",
    "\n",
    "print(title)\n",
    "print(price)"
   ]
  },
  {
   "cell_type": "code",
   "execution_count": 17,
   "id": "4424c642-ec7a-424a-8369-cea4131909bb",
   "metadata": {},
   "outputs": [
    {
     "name": "stdout",
     "output_type": "stream",
     "text": [
      "Allen Solly Men's Cotton Regular Fit Polo T-Shirt\n",
      "681\n"
     ]
    }
   ],
   "source": [
    "#Clean up the data a little bit\n",
    "\n",
    "title = title.strip()\n",
    "price = price.strip()\n",
    "\n",
    "print(title)\n",
    "print(price)"
   ]
  },
  {
   "cell_type": "code",
   "execution_count": 18,
   "id": "90e7cc83-3d76-4355-861f-1d9dcdac1515",
   "metadata": {},
   "outputs": [
    {
     "name": "stdout",
     "output_type": "stream",
     "text": [
      "2025-08-23\n"
     ]
    }
   ],
   "source": [
    "#Create a Timestamp for your output to track when data was collected\n",
    "\n",
    "today = datetime.date.today()\n",
    "print(today)"
   ]
  },
  {
   "cell_type": "code",
   "execution_count": 23,
   "id": "9e5c5907-ff1a-47c3-880d-837323f2e3f3",
   "metadata": {},
   "outputs": [
    {
     "data": {
      "text/plain": [
       "\"with open('AmazonWebScraperDataset.csv','w', newline='', encoding = 'UTF8') as f:\\n    writer = csv.writer(f)\\n    writer.writerow(header)\\n    writer.writerow(data)\""
      ]
     },
     "execution_count": 23,
     "metadata": {},
     "output_type": "execute_result"
    }
   ],
   "source": [
    "#Create CSV and write headers and data into the file\n",
    "\n",
    "import csv\n",
    "\n",
    "header = ['Title','Price','Date']\n",
    "data = [title,price,today]\n",
    "\n",
    "'''with open('AmazonWebScraperDataset.csv','w', newline='', encoding = 'UTF8') as f:\n",
    "    writer = csv.writer(f)\n",
    "    writer.writerow(header)\n",
    "    writer.writerow(data)'''"
   ]
  },
  {
   "cell_type": "code",
   "execution_count": 29,
   "id": "80c9dd6b-b0e4-4de3-9194-c1a73d9d8c67",
   "metadata": {},
   "outputs": [
    {
     "data": {
      "text/html": [
       "<div>\n",
       "<style scoped>\n",
       "    .dataframe tbody tr th:only-of-type {\n",
       "        vertical-align: middle;\n",
       "    }\n",
       "\n",
       "    .dataframe tbody tr th {\n",
       "        vertical-align: top;\n",
       "    }\n",
       "\n",
       "    .dataframe thead th {\n",
       "        text-align: right;\n",
       "    }\n",
       "</style>\n",
       "<table border=\"1\" class=\"dataframe\">\n",
       "  <thead>\n",
       "    <tr style=\"text-align: right;\">\n",
       "      <th></th>\n",
       "      <th>Title</th>\n",
       "      <th>Price</th>\n",
       "      <th>Date</th>\n",
       "    </tr>\n",
       "  </thead>\n",
       "  <tbody>\n",
       "    <tr>\n",
       "      <th>0</th>\n",
       "      <td>Allen Solly Men's Cotton Regular Fit Polo T-Shirt</td>\n",
       "      <td>681</td>\n",
       "      <td>2025-08-22</td>\n",
       "    </tr>\n",
       "    <tr>\n",
       "      <th>1</th>\n",
       "      <td>Allen Solly Men's Cotton Regular Fit Polo T-Shirt</td>\n",
       "      <td>681</td>\n",
       "      <td>2025-08-22</td>\n",
       "    </tr>\n",
       "    <tr>\n",
       "      <th>2</th>\n",
       "      <td>Allen Solly Men's Cotton Regular Fit Polo T-Shirt</td>\n",
       "      <td>681</td>\n",
       "      <td>2025-08-22</td>\n",
       "    </tr>\n",
       "    <tr>\n",
       "      <th>3</th>\n",
       "      <td>Allen Solly Men's Cotton Regular Fit Polo T-Shirt</td>\n",
       "      <td>681</td>\n",
       "      <td>2025-08-22</td>\n",
       "    </tr>\n",
       "    <tr>\n",
       "      <th>4</th>\n",
       "      <td>Allen Solly Men's Cotton Regular Fit Polo T-Shirt</td>\n",
       "      <td>681</td>\n",
       "      <td>2025-08-22</td>\n",
       "    </tr>\n",
       "    <tr>\n",
       "      <th>5</th>\n",
       "      <td>Allen Solly Men's Cotton Regular Fit Polo T-Shirt</td>\n",
       "      <td>681</td>\n",
       "      <td>2025-08-23</td>\n",
       "    </tr>\n",
       "    <tr>\n",
       "      <th>6</th>\n",
       "      <td>Allen Solly Men's Cotton Regular Fit Polo T-Shirt</td>\n",
       "      <td>681</td>\n",
       "      <td>2025-08-23</td>\n",
       "    </tr>\n",
       "  </tbody>\n",
       "</table>\n",
       "</div>"
      ],
      "text/plain": [
       "                                               Title  Price        Date\n",
       "0  Allen Solly Men's Cotton Regular Fit Polo T-Shirt    681  2025-08-22\n",
       "1  Allen Solly Men's Cotton Regular Fit Polo T-Shirt    681  2025-08-22\n",
       "2  Allen Solly Men's Cotton Regular Fit Polo T-Shirt    681  2025-08-22\n",
       "3  Allen Solly Men's Cotton Regular Fit Polo T-Shirt    681  2025-08-22\n",
       "4  Allen Solly Men's Cotton Regular Fit Polo T-Shirt    681  2025-08-22\n",
       "5  Allen Solly Men's Cotton Regular Fit Polo T-Shirt    681  2025-08-23\n",
       "6  Allen Solly Men's Cotton Regular Fit Polo T-Shirt    681  2025-08-23"
      ]
     },
     "execution_count": 29,
     "metadata": {},
     "output_type": "execute_result"
    }
   ],
   "source": [
    "#reading the csv file here \n",
    "import pandas as pd\n",
    "\n",
    "df = pd.read_csv(r'C:\\Users\\Abhishek\\AmazonWebScraperDataset.csv')\n",
    "df"
   ]
  },
  {
   "cell_type": "code",
   "execution_count": 28,
   "id": "86162281-2090-4c56-85b7-0e7c3836215b",
   "metadata": {},
   "outputs": [],
   "source": [
    "#Now we are appending data to the csv\n",
    "\n",
    "with open('AmazonWebScraperDataset.csv','a+', newline='', encoding = 'UTF8') as f:\n",
    "    writer = csv.writer(f)\n",
    "    writer.writerow(data)\n",
    "    "
   ]
  },
  {
   "cell_type": "code",
   "execution_count": 33,
   "id": "a2bcc35f-9098-460e-99fc-ee33deaa53a6",
   "metadata": {},
   "outputs": [],
   "source": [
    "#Combine all of the above code into one function\n",
    "\n",
    "def check_price():\n",
    "    url = 'https://www.amazon.in/Allen-Solly-Regular-AMKP317G04249_Jet-Black_Large/dp/B06Y2FG6R7/ref=zg_bs_c_apparel_d_sccl_3/524-8774378-8054666?pd_rd_w=Ki266&content-id=amzn1.sym.7f3d66f6-5df6-41bc-b3bc-9782a34ce834&pf_rd_p=7f3d66f6-5df6-41bc-b3bc-9782a34ce834&pf_rd_r=QZKFSGK84BESE1PCG04N&pd_rd_wg=cHga6&pd_rd_r=c80d2cc9-5ac7-4213-aa11-a55b02b049d3&pd_rd_i=B06Y2FG6R7&psc=1'\n",
    "\n",
    "\n",
    "    page = requests.get(url)\n",
    "\n",
    "    soup1 = BeautifulSoup(page.text)\n",
    "\n",
    "    soup2 = BeautifulSoup(soup1.prettify())\n",
    "\n",
    "    title = soup2.find( id = 'productTitle').get_text() \n",
    "    price =soup2.find( class_ = 'a-price-whole').get_text()\n",
    "\n",
    "    title = title.strip()\n",
    "    price = price.strip()\n",
    "\n",
    "    today = datetime.date.today()\n",
    "\n",
    "    header = ['Title','Price','Date']\n",
    "    data = [title, price, today]\n",
    "\n",
    "    with open('AmazonWebScraperDataset.csv','a+', newline='', encoding = 'UTF8') as f:\n",
    "        writer = csv.writer(f)\n",
    "        writer.writerow(data)\n",
    "\n",
    "    if (price <500):\n",
    "        send_mail()"
   ]
  },
  {
   "cell_type": "code",
   "execution_count": 34,
   "id": "d77cff3a-e9e1-42f2-88d5-f4f27a983e14",
   "metadata": {},
   "outputs": [
    {
     "ename": "AttributeError",
     "evalue": "'NoneType' object has no attribute 'get_text'",
     "output_type": "error",
     "traceback": [
      "\u001b[1;31m---------------------------------------------------------------------------\u001b[0m",
      "\u001b[1;31mAttributeError\u001b[0m                            Traceback (most recent call last)",
      "Cell \u001b[1;32mIn[34], line 2\u001b[0m\n\u001b[0;32m      1\u001b[0m \u001b[38;5;28;01mwhile\u001b[39;00m(\u001b[38;5;28;01mTrue\u001b[39;00m):\n\u001b[1;32m----> 2\u001b[0m     check_price()\n\u001b[0;32m      3\u001b[0m     time\u001b[38;5;241m.\u001b[39msleep(\u001b[38;5;241m5\u001b[39m)\n",
      "Cell \u001b[1;32mIn[33], line 13\u001b[0m, in \u001b[0;36mcheck_price\u001b[1;34m()\u001b[0m\n\u001b[0;32m      9\u001b[0m soup1 \u001b[38;5;241m=\u001b[39m BeautifulSoup(page\u001b[38;5;241m.\u001b[39mtext)\n\u001b[0;32m     11\u001b[0m soup2 \u001b[38;5;241m=\u001b[39m BeautifulSoup(soup1\u001b[38;5;241m.\u001b[39mprettify())\n\u001b[1;32m---> 13\u001b[0m title \u001b[38;5;241m=\u001b[39m soup2\u001b[38;5;241m.\u001b[39mfind( \u001b[38;5;28mid\u001b[39m \u001b[38;5;241m=\u001b[39m \u001b[38;5;124m'\u001b[39m\u001b[38;5;124mproductTitle\u001b[39m\u001b[38;5;124m'\u001b[39m)\u001b[38;5;241m.\u001b[39mget_text() \n\u001b[0;32m     14\u001b[0m price \u001b[38;5;241m=\u001b[39msoup2\u001b[38;5;241m.\u001b[39mfind( class_ \u001b[38;5;241m=\u001b[39m \u001b[38;5;124m'\u001b[39m\u001b[38;5;124ma-price-whole\u001b[39m\u001b[38;5;124m'\u001b[39m)\u001b[38;5;241m.\u001b[39mget_text()\n\u001b[0;32m     16\u001b[0m title \u001b[38;5;241m=\u001b[39m title\u001b[38;5;241m.\u001b[39mstrip()\n",
      "\u001b[1;31mAttributeError\u001b[0m: 'NoneType' object has no attribute 'get_text'"
     ]
    }
   ],
   "source": [
    "while(True):\n",
    "    check_price()\n",
    "    time.sleep(5)"
   ]
  },
  {
   "cell_type": "code",
   "execution_count": 32,
   "id": "fcf8b72c-ad43-42c5-a600-0683916f7288",
   "metadata": {},
   "outputs": [
    {
     "data": {
      "text/html": [
       "<div>\n",
       "<style scoped>\n",
       "    .dataframe tbody tr th:only-of-type {\n",
       "        vertical-align: middle;\n",
       "    }\n",
       "\n",
       "    .dataframe tbody tr th {\n",
       "        vertical-align: top;\n",
       "    }\n",
       "\n",
       "    .dataframe thead th {\n",
       "        text-align: right;\n",
       "    }\n",
       "</style>\n",
       "<table border=\"1\" class=\"dataframe\">\n",
       "  <thead>\n",
       "    <tr style=\"text-align: right;\">\n",
       "      <th></th>\n",
       "      <th>Title</th>\n",
       "      <th>Price</th>\n",
       "      <th>Date</th>\n",
       "    </tr>\n",
       "  </thead>\n",
       "  <tbody>\n",
       "    <tr>\n",
       "      <th>0</th>\n",
       "      <td>Allen Solly Men's Cotton Regular Fit Polo T-Shirt</td>\n",
       "      <td>681</td>\n",
       "      <td>2025-08-22</td>\n",
       "    </tr>\n",
       "    <tr>\n",
       "      <th>1</th>\n",
       "      <td>Allen Solly Men's Cotton Regular Fit Polo T-Shirt</td>\n",
       "      <td>681</td>\n",
       "      <td>2025-08-22</td>\n",
       "    </tr>\n",
       "    <tr>\n",
       "      <th>2</th>\n",
       "      <td>Allen Solly Men's Cotton Regular Fit Polo T-Shirt</td>\n",
       "      <td>681</td>\n",
       "      <td>2025-08-22</td>\n",
       "    </tr>\n",
       "    <tr>\n",
       "      <th>3</th>\n",
       "      <td>Allen Solly Men's Cotton Regular Fit Polo T-Shirt</td>\n",
       "      <td>681</td>\n",
       "      <td>2025-08-22</td>\n",
       "    </tr>\n",
       "    <tr>\n",
       "      <th>4</th>\n",
       "      <td>Allen Solly Men's Cotton Regular Fit Polo T-Shirt</td>\n",
       "      <td>681</td>\n",
       "      <td>2025-08-22</td>\n",
       "    </tr>\n",
       "    <tr>\n",
       "      <th>5</th>\n",
       "      <td>Allen Solly Men's Cotton Regular Fit Polo T-Shirt</td>\n",
       "      <td>681</td>\n",
       "      <td>2025-08-23</td>\n",
       "    </tr>\n",
       "    <tr>\n",
       "      <th>6</th>\n",
       "      <td>Allen Solly Men's Cotton Regular Fit Polo T-Shirt</td>\n",
       "      <td>681</td>\n",
       "      <td>2025-08-23</td>\n",
       "    </tr>\n",
       "  </tbody>\n",
       "</table>\n",
       "</div>"
      ],
      "text/plain": [
       "                                               Title  Price        Date\n",
       "0  Allen Solly Men's Cotton Regular Fit Polo T-Shirt    681  2025-08-22\n",
       "1  Allen Solly Men's Cotton Regular Fit Polo T-Shirt    681  2025-08-22\n",
       "2  Allen Solly Men's Cotton Regular Fit Polo T-Shirt    681  2025-08-22\n",
       "3  Allen Solly Men's Cotton Regular Fit Polo T-Shirt    681  2025-08-22\n",
       "4  Allen Solly Men's Cotton Regular Fit Polo T-Shirt    681  2025-08-22\n",
       "5  Allen Solly Men's Cotton Regular Fit Polo T-Shirt    681  2025-08-23\n",
       "6  Allen Solly Men's Cotton Regular Fit Polo T-Shirt    681  2025-08-23"
      ]
     },
     "execution_count": 32,
     "metadata": {},
     "output_type": "execute_result"
    }
   ],
   "source": [
    "df"
   ]
  },
  {
   "cell_type": "code",
   "execution_count": null,
   "id": "56662855-0d00-4ae6-bcd5-5af69171da86",
   "metadata": {},
   "outputs": [],
   "source": [
    "# If uou want to try sending yourself an email (just for fun) when a price hits below a certain level you can try it\n",
    "# out with this script\n",
    "\n",
    "def send_mail():\n",
    "    server = smtplib.SMTP_SSL('smtp.gmail.com',465)\n",
    "    server.ehlo()\n",
    "    #server.starttls()\n",
    "    server.ehlo()\n",
    "    server.login('email.address','password')\n",
    "    \n",
    "    subject = \"The Shirt you want is below $15! Now is your chance to buy!\"\n",
    "    body = \"User, This is the moment we have been waiting for. Now is your chance to pick up the shirt of your dreams. Don't mess it up! Link here:https://www.amazon.in/Allen-Solly-Regular-AMKP317G04249_Jet-Black_Large/dp/B06Y2FG6R7/ref=zg_bs_c_apparel_d_sccl_3/521-6837855-5373914?pd_rd_w=tKiHT&content-id=amzn1.sym.7f3d66f6-5df6-41bc-b3bc-9782a34ce834&pf_rd_p=7f3d66f6-5df6-41bc-b3bc-9782a34ce834&pf_rd_r=590FNGF13TA3E577XBGJ&pd_rd_wg=RfIXu&pd_rd_r=d2ac9803-cf87-45bf-983a-1920201c9387&pd_rd_i=B06Y2FG6R7&psc=1\"\n",
    "   \n",
    "    msg = f\"Subject: {subject}\\n\\n{body}\"\n",
    "    \n",
    "    server.sendmail(\n",
    "        'email.address',\n",
    "        msg\n",
    "     \n",
    "    )"
   ]
  }
 ],
 "metadata": {
  "kernelspec": {
   "display_name": "Python [conda env:base] *",
   "language": "python",
   "name": "conda-base-py"
  },
  "language_info": {
   "codemirror_mode": {
    "name": "ipython",
    "version": 3
   },
   "file_extension": ".py",
   "mimetype": "text/x-python",
   "name": "python",
   "nbconvert_exporter": "python",
   "pygments_lexer": "ipython3",
   "version": "3.13.5"
  }
 },
 "nbformat": 4,
 "nbformat_minor": 5
}
